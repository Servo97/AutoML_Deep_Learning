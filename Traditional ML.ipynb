{
 "cells": [
  {
   "cell_type": "code",
   "execution_count": null,
   "metadata": {},
   "outputs": [],
   "source": [
    "import os\n",
    "import pandas as pd\n",
    "import numpy as np\n",
    "from glob import glob\n",
    "from tqdm.notebook import tqdm\n",
    "from sklearn.decomposition import PCA\n",
    "from sklearn.preprocessing import StandardScaler\n",
    "import matplotlib.pyplot as plt\n",
    "from sklearn.ensemble import RandomForestClassifier\n",
    "from sklearn.model_selection import train_test_split\n",
    "from sklearn.metrics import classification_report, confusion_matrix\n",
    "\n",
    "from IPython.core.display import display, HTML\n",
    "display(HTML(\"<style>.container { width:100% !important; }</style>\"))"
   ]
  },
  {
   "cell_type": "code",
   "execution_count": null,
   "metadata": {},
   "outputs": [],
   "source": [
    "# os.system(\"tshark -r /home/user/Sarvesh/Baap_Product/AutoML_DL/security/ISCX_Botnet-Training.pcap -T fields -e ip.src -e frame.len -e     ip.proto -E separator=, -E occurrence=f > /home/user/Sarvesh/Baap_Product/AutoML_DL/security/ISCX_Botnet-Training.csv\")"
   ]
  },
  {
   "cell_type": "code",
   "execution_count": null,
   "metadata": {},
   "outputs": [],
   "source": [
    "li = []\n",
    "\n",
    "for filename in glob('MachineLearningCVE/*.csv'):\n",
    "    df = pd.read_csv(filename, index_col=None, header=0)\n",
    "    li.append(df)\n",
    "\n",
    "frame = pd.concat(li, axis=0, ignore_index=True)\n",
    "frame.columns = [i.lstrip() for i in df.columns]"
   ]
  },
  {
   "cell_type": "code",
   "execution_count": null,
   "metadata": {},
   "outputs": [],
   "source": [
    "frame['Label'].value_counts()"
   ]
  },
  {
   "cell_type": "code",
   "execution_count": null,
   "metadata": {},
   "outputs": [],
   "source": [
    "classes = {'BENIGN':'BENIGN','FTP-Patator':'brute_force_attack','SSH-Patator':'brute_force_attack',\n",
    "           'DoS ':'DoS_attack','Heart':'DoS_attack','Web':'web_attack', 'Infiltration':'infiltration_attack',\n",
    "           'Bot':'botnet_attack','DDoS':'DDos_attack','PortScan':'PortScan'}\n",
    "tags = ['BENIGN', 'FTP-Patator', 'SSH-Patator', 'DoS ', 'Web', 'Infiltration', 'Bot', 'DDoS', 'PortScan','Heart']\n",
    "new_labels = []\n",
    "for i, r in tqdm(frame.iterrows()):\n",
    "    for tag in tags:\n",
    "        if tag in r['Label']:\n",
    "            new_labels.append(classes[tag])\n",
    "\n",
    "print(len(new_labels))\n",
    "frame['Label'] = new_labels"
   ]
  },
  {
   "cell_type": "code",
   "execution_count": null,
   "metadata": {
    "scrolled": true
   },
   "outputs": [],
   "source": [
    "frame['Flow Packets/s'].value_counts()['Infinity']"
   ]
  },
  {
   "cell_type": "code",
   "execution_count": null,
   "metadata": {},
   "outputs": [],
   "source": [
    "frame = frame[frame['Flow Bytes/s']!='Infinity']\n",
    "frame = frame[frame['Flow Packets/s']!='Infinity']"
   ]
  },
  {
   "cell_type": "code",
   "execution_count": null,
   "metadata": {},
   "outputs": [],
   "source": [
    "frame = pd.read_csv('./CICIDS2017/combined_data.csv', index_col=False)\n",
    "frame['Label'].value_counts()\n"
   ]
  },
  {
   "cell_type": "code",
   "execution_count": null,
   "metadata": {},
   "outputs": [],
   "source": [
    "X = frame.loc[:, frame.columns != 'Label']\n",
    "y = frame['Label']"
   ]
  },
  {
   "cell_type": "code",
   "execution_count": null,
   "metadata": {},
   "outputs": [],
   "source": [
    "X_train, X_test, y_train, y_test = train_test_split(X, y, test_size=0.2, random_state=42)"
   ]
  },
  {
   "cell_type": "code",
   "execution_count": null,
   "metadata": {},
   "outputs": [],
   "source": [
    "X_train['Label'] = y_train\n",
    "X_test['Label'] = y_test"
   ]
  },
  {
   "cell_type": "code",
   "execution_count": null,
   "metadata": {},
   "outputs": [],
   "source": [
    "X_train['Label'].value_counts(),X_test['Label'].value_counts()"
   ]
  },
  {
   "cell_type": "code",
   "execution_count": null,
   "metadata": {},
   "outputs": [],
   "source": [
    "X_train.to_csv('/home/user/Sarvesh/Baap_Product/AutoML_DL/security/CICIDS2017/combined_data_train.csv', index=False)\n",
    "X_test.to_csv('/home/user/Sarvesh/Baap_Product/AutoML_DL/security/CICIDS2017/combined_data_test.csv', index=False)"
   ]
  },
  {
   "cell_type": "code",
   "execution_count": null,
   "metadata": {
    "scrolled": true
   },
   "outputs": [],
   "source": [
    "# y = frame[target].loc[:100]\n",
    "# X = frame.loc[:100, frame.columns != target]\n",
    "# X_train, X_test, y_train, y_test = train_test_split(X, y, test_size=0.33, random_state=42)\n",
    "# scaler = StandardScaler()\n",
    "# with pd.option_context('expand_frame_repr', False):\n",
    "#     print (X_train.iloc[:,:5])\n",
    "# X_std = scaler.fit_transform(X_train)\n",
    "# X_std = scaler.inverse_transform(X_std)\n",
    "# X_std = pd.DataFrame(X_std)\n",
    "# with pd.option_context('expand_frame_repr', False):\n",
    "#     print (X_std.iloc[:,:5])\n",
    "# with pd.option_context('expand_frame_repr', False):\n",
    "#     print (X_test.iloc[:,:5])\n",
    "# X_std = scaler.transform(X_test)\n",
    "# X_std = scaler.inverse_transform(X_std)\n",
    "# X_std = pd.DataFrame(X_std)\n",
    "# with pd.option_context('expand_frame_repr', False):\n",
    "#     print (X_std.iloc[:,:5])"
   ]
  },
  {
   "cell_type": "code",
   "execution_count": null,
   "metadata": {},
   "outputs": [],
   "source": [
    "target = 'Label'\n",
    "y = frame[target]\n",
    "X = frame.loc[:, frame.columns != target]\n",
    "X_train, X_test, y_train, y_test = train_test_split(X, y, test_size=0.33, random_state=42)\n",
    "scaler = StandardScaler()\n",
    "X_std = scaler.fit_transform(X_train)\n",
    "\n",
    "pca = PCA().fit(X_std)\n",
    "plt.plot(np.cumsum(pca.explained_variance_ratio_))\n",
    "plt.xlim(0,40,1)\n",
    "plt.xlabel('Number of components')\n",
    "plt.ylabel('Cumulative explained variance')"
   ]
  },
  {
   "cell_type": "code",
   "execution_count": null,
   "metadata": {
    "scrolled": true
   },
   "outputs": [],
   "source": [
    "pca_transformer = PCA(n_components=35)\n",
    "pca = pca_transformer.fit_transform(X_std)\n",
    "\n",
    "clf = RandomForestClassifier(max_depth=5, n_jobs=-1,random_state=0)\n",
    "clf.fit(pca, y_train)"
   ]
  },
  {
   "cell_type": "code",
   "execution_count": null,
   "metadata": {},
   "outputs": [],
   "source": [
    "y_train_pred = clf.predict(pca)"
   ]
  },
  {
   "cell_type": "code",
   "execution_count": null,
   "metadata": {},
   "outputs": [],
   "source": [
    "pred_df = pd.DataFrame(classification_report(y_train, y_train_pred, output_dict=True))\n",
    "pred_df"
   ]
  },
  {
   "cell_type": "code",
   "execution_count": null,
   "metadata": {},
   "outputs": [],
   "source": [
    "X_std_test = scaler.transform(X_test)\n",
    "pca_test = pca_transformer.transform(X_std_test)\n",
    "y_test_pred = clf.predict(pca_test)\n",
    "y_test_pred"
   ]
  },
  {
   "cell_type": "code",
   "execution_count": null,
   "metadata": {},
   "outputs": [],
   "source": [
    "pred_df = pd.DataFrame(classification_report(y_test, y_test_pred, output_dict=True))\n",
    "pred_df"
   ]
  },
  {
   "cell_type": "code",
   "execution_count": null,
   "metadata": {},
   "outputs": [],
   "source": [
    "cm = pd.DataFrame(confusion_matrix(y_train, y_train_pred))\n",
    "cm"
   ]
  },
  {
   "cell_type": "code",
   "execution_count": null,
   "metadata": {},
   "outputs": [],
   "source": []
  }
 ],
 "metadata": {
  "kernelspec": {
   "display_name": "Python 3",
   "language": "python",
   "name": "python3"
  },
  "language_info": {
   "codemirror_mode": {
    "name": "ipython",
    "version": 3
   },
   "file_extension": ".py",
   "mimetype": "text/x-python",
   "name": "python",
   "nbconvert_exporter": "python",
   "pygments_lexer": "ipython3",
   "version": "3.7.6"
  }
 },
 "nbformat": 4,
 "nbformat_minor": 4
}
